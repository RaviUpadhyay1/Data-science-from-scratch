{
 "cells": [
  {
   "cell_type": "markdown",
   "id": "e747b651",
   "metadata": {
    "tags": [
     "parameters"
    ]
   },
   "source": [
    "# 1. Python Output\n"
   ]
  },
  {
   "cell_type": "markdown",
   "id": "98eb4a32",
   "metadata": {},
   "source": [
    "Python is case sensitive\n"
   ]
  },
  {
   "cell_type": "code",
   "execution_count": 1,
   "id": "be4e6fad",
   "metadata": {},
   "outputs": [
    {
     "name": "stdout",
     "output_type": "stream",
     "text": [
      "Hello World\n"
     ]
    }
   ],
   "source": [
    "print(\"Hello World\")"
   ]
  },
  {
   "cell_type": "code",
   "execution_count": 2,
   "id": "09fab1ee",
   "metadata": {},
   "outputs": [
    {
     "name": "stdout",
     "output_type": "stream",
     "text": [
      "Hello Ravi\n"
     ]
    }
   ],
   "source": [
    "print('Hello Ravi')"
   ]
  },
  {
   "cell_type": "code",
   "execution_count": 3,
   "id": "62f0488e",
   "metadata": {},
   "outputs": [
    {
     "ename": "SyntaxError",
     "evalue": "invalid syntax. Perhaps you forgot a comma? (142475239.py, line 1)",
     "output_type": "error",
     "traceback": [
      "\u001b[0;36m  Cell \u001b[0;32mIn[3], line 1\u001b[0;36m\u001b[0m\n\u001b[0;31m    print(Hello Ravi)\u001b[0m\n\u001b[0m          ^\u001b[0m\n\u001b[0;31mSyntaxError\u001b[0m\u001b[0;31m:\u001b[0m invalid syntax. Perhaps you forgot a comma?\n"
     ]
    }
   ],
   "source": [
    "print(Hello Ravi)"
   ]
  },
  {
   "cell_type": "code",
   "execution_count": 1,
   "id": "b2971a92",
   "metadata": {},
   "outputs": [
    {
     "name": "stdout",
     "output_type": "stream",
     "text": [
      "7\n"
     ]
    }
   ],
   "source": [
    "print(7)"
   ]
  },
  {
   "cell_type": "code",
   "execution_count": 3,
   "id": "593540ec",
   "metadata": {},
   "outputs": [
    {
     "name": "stdout",
     "output_type": "stream",
     "text": [
      "True\n"
     ]
    }
   ],
   "source": [
    "print(True)"
   ]
  },
  {
   "cell_type": "code",
   "execution_count": 2,
   "id": "93d75dbc",
   "metadata": {},
   "outputs": [
    {
     "name": "stdout",
     "output_type": "stream",
     "text": [
      "7.7\n"
     ]
    }
   ],
   "source": [
    "print(7.7)"
   ]
  },
  {
   "cell_type": "code",
   "execution_count": 1,
   "id": "0e061333",
   "metadata": {},
   "outputs": [
    {
     "name": "stdout",
     "output_type": "stream",
     "text": [
      "Hello 1 4.5 True\n"
     ]
    }
   ],
   "source": [
    "print('Hello',1,4.5,True)"
   ]
  },
  {
   "cell_type": "code",
   "execution_count": 5,
   "id": "2a8f8172",
   "metadata": {},
   "outputs": [
    {
     "name": "stdout",
     "output_type": "stream",
     "text": [
      "hello/1/3.5/True\n"
     ]
    }
   ],
   "source": [
    "print('hello',1,3.5,True,sep='/')"
   ]
  },
  {
   "cell_type": "code",
   "execution_count": 6,
   "id": "31c114b4",
   "metadata": {},
   "outputs": [
    {
     "name": "stdout",
     "output_type": "stream",
     "text": [
      "hello\n",
      "world\n"
     ]
    }
   ],
   "source": [
    "print(\"hello\")\n",
    "print(\"world\")"
   ]
  },
  {
   "cell_type": "code",
   "execution_count": 8,
   "id": "d4e23f20",
   "metadata": {},
   "outputs": [
    {
     "name": "stdout",
     "output_type": "stream",
     "text": [
      "hello-world\n"
     ]
    }
   ],
   "source": [
    "print(\"hello\",end='-')\n",
    "print('world')"
   ]
  },
  {
   "cell_type": "markdown",
   "id": "3d16fc6f",
   "metadata": {
    "slideshow": {
     "slide_type": "notes"
    }
   },
   "source": [
    "# 2. Data Types\n",
    "\n"
   ]
  },
  {
   "cell_type": "markdown",
   "id": "55e0dd76",
   "metadata": {},
   "source": [
    "1.Integer\n"
   ]
  },
  {
   "cell_type": "code",
   "execution_count": 9,
   "id": "d0c8949c",
   "metadata": {},
   "outputs": [
    {
     "name": "stdout",
     "output_type": "stream",
     "text": [
      "8\n"
     ]
    }
   ],
   "source": [
    "print(8)"
   ]
  },
  {
   "cell_type": "markdown",
   "id": "87aab3b9",
   "metadata": {},
   "source": [
    "This much python can handle\n",
    "1*10^308"
   ]
  },
  {
   "cell_type": "code",
   "execution_count": 10,
   "id": "039d4bec",
   "metadata": {},
   "outputs": [
    {
     "name": "stdout",
     "output_type": "stream",
     "text": [
      "1e+308\n"
     ]
    }
   ],
   "source": [
    "print(1e308)"
   ]
  },
  {
   "cell_type": "code",
   "execution_count": 11,
   "id": "f208087f",
   "metadata": {},
   "outputs": [
    {
     "name": "stdout",
     "output_type": "stream",
     "text": [
      "inf\n"
     ]
    }
   ],
   "source": [
    "print(1e309)"
   ]
  },
  {
   "cell_type": "markdown",
   "id": "f59d97ea",
   "metadata": {},
   "source": [
    "2.Decimal/Float"
   ]
  },
  {
   "cell_type": "code",
   "execution_count": 12,
   "id": "33b38685",
   "metadata": {},
   "outputs": [
    {
     "name": "stdout",
     "output_type": "stream",
     "text": [
      "8.55\n"
     ]
    }
   ],
   "source": [
    "print(8.55)"
   ]
  },
  {
   "cell_type": "markdown",
   "id": "9c526877",
   "metadata": {},
   "source": [
    "This much it will take the value"
   ]
  },
  {
   "cell_type": "code",
   "execution_count": 2,
   "id": "8219f621",
   "metadata": {},
   "outputs": [
    {
     "name": "stdout",
     "output_type": "stream",
     "text": [
      "1.7e+308\n"
     ]
    }
   ],
   "source": [
    "print(1.7e308)"
   ]
  },
  {
   "cell_type": "markdown",
   "id": "41fc2657",
   "metadata": {},
   "source": [
    "3.Boolean"
   ]
  },
  {
   "cell_type": "code",
   "execution_count": 3,
   "id": "b48af0d9",
   "metadata": {},
   "outputs": [
    {
     "name": "stdout",
     "output_type": "stream",
     "text": [
      "True\n",
      "False\n"
     ]
    }
   ],
   "source": [
    "print(True)\n",
    "print(False)"
   ]
  },
  {
   "cell_type": "markdown",
   "id": "d4574b96",
   "metadata": {},
   "source": [
    "Text/String\n"
   ]
  },
  {
   "cell_type": "code",
   "execution_count": 1,
   "id": "a5817b3f",
   "metadata": {},
   "outputs": [
    {
     "name": "stdout",
     "output_type": "stream",
     "text": [
      "Hello world\n"
     ]
    }
   ],
   "source": [
    "print('Hello world')"
   ]
  },
  {
   "cell_type": "markdown",
   "id": "8cc0542d",
   "metadata": {},
   "source": [
    "Complex"
   ]
  },
  {
   "cell_type": "code",
   "execution_count": 2,
   "id": "00f21a23",
   "metadata": {},
   "outputs": [
    {
     "name": "stdout",
     "output_type": "stream",
     "text": [
      "(5+6j)\n"
     ]
    }
   ],
   "source": [
    "print(5+6j)"
   ]
  },
  {
   "cell_type": "markdown",
   "id": "cf00cedd",
   "metadata": {},
   "source": [
    "List"
   ]
  },
  {
   "cell_type": "code",
   "execution_count": 3,
   "id": "099d275d",
   "metadata": {},
   "outputs": [
    {
     "name": "stdout",
     "output_type": "stream",
     "text": [
      "[1, 2, 3, 4, 5]\n"
     ]
    }
   ],
   "source": [
    "print([1,2,3,4,5])"
   ]
  },
  {
   "cell_type": "markdown",
   "id": "ec57d5de",
   "metadata": {},
   "source": [
    "Tuples"
   ]
  },
  {
   "cell_type": "code",
   "execution_count": 5,
   "id": "04cd2c44",
   "metadata": {},
   "outputs": [
    {
     "name": "stdout",
     "output_type": "stream",
     "text": [
      "(1, 2, 3, 4, 5)\n"
     ]
    }
   ],
   "source": [
    "print((1,2,3,4,5))"
   ]
  },
  {
   "cell_type": "markdown",
   "id": "3eb6e6eb",
   "metadata": {},
   "source": [
    "Sets"
   ]
  },
  {
   "cell_type": "code",
   "execution_count": 6,
   "id": "4f93e1be",
   "metadata": {},
   "outputs": [
    {
     "name": "stdout",
     "output_type": "stream",
     "text": [
      "{1, 2, 3, 4, 5}\n"
     ]
    }
   ],
   "source": [
    "print({1,2,3,4,5})"
   ]
  },
  {
   "cell_type": "markdown",
   "id": "322ee494",
   "metadata": {},
   "source": [
    "Dictionary"
   ]
  },
  {
   "cell_type": "code",
   "execution_count": 7,
   "id": "d8d03de8",
   "metadata": {},
   "outputs": [
    {
     "name": "stdout",
     "output_type": "stream",
     "text": [
      "{'name': 'Ravi', 'gender': 'male', 'weight': 70}\n"
     ]
    }
   ],
   "source": [
    "print({'name':'Ravi','gender':'male','weight':70})"
   ]
  },
  {
   "cell_type": "markdown",
   "id": "5f5a1d8c",
   "metadata": {},
   "source": [
    "types"
   ]
  },
  {
   "cell_type": "code",
   "execution_count": 1,
   "id": "95e80dde",
   "metadata": {},
   "outputs": [
    {
     "data": {
      "text/plain": [
       "int"
      ]
     },
     "execution_count": 1,
     "metadata": {},
     "output_type": "execute_result"
    }
   ],
   "source": [
    "type(3)"
   ]
  },
  {
   "cell_type": "code",
   "execution_count": 2,
   "id": "564f30cb",
   "metadata": {},
   "outputs": [
    {
     "data": {
      "text/plain": [
       "str"
      ]
     },
     "execution_count": 2,
     "metadata": {},
     "output_type": "execute_result"
    }
   ],
   "source": [
    "type(\"Ravi\")"
   ]
  },
  {
   "cell_type": "code",
   "execution_count": 3,
   "id": "5ac519f3",
   "metadata": {},
   "outputs": [
    {
     "data": {
      "text/plain": [
       "list"
      ]
     },
     "execution_count": 3,
     "metadata": {},
     "output_type": "execute_result"
    }
   ],
   "source": [
    "type([1,2,3,4,5])"
   ]
  }
 ],
 "metadata": {
  "kernelspec": {
   "display_name": "Python 3",
   "language": "python",
   "name": "python3"
  },
  "language_info": {
   "codemirror_mode": {
    "name": "ipython",
    "version": 3
   },
   "file_extension": ".py",
   "mimetype": "text/x-python",
   "name": "python",
   "nbconvert_exporter": "python",
   "pygments_lexer": "ipython3",
   "version": "3.12.4"
  }
 },
 "nbformat": 4,
 "nbformat_minor": 5
}
