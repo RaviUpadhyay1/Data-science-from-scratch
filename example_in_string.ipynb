{
 "cells": [
  {
   "cell_type": "markdown",
   "metadata": {},
   "source": [
    "# Find the length of a given string without using the len() function"
   ]
  },
  {
   "cell_type": "code",
   "execution_count": 4,
   "metadata": {},
   "outputs": [
    {
     "name": "stdout",
     "output_type": "stream",
     "text": [
      "length of the string is 11\n"
     ]
    }
   ],
   "source": [
    "s = input(\"enter the string\")\n",
    "counter = 0\n",
    "\n",
    "for i in s:\n",
    "    counter += 1\n",
    "print('length of the string is',counter)"
   ]
  },
  {
   "cell_type": "markdown",
   "metadata": {},
   "source": [
    "#### Extract username from a given email. \n",
    "#### Eg if the email is ravirijal.100@gmail.com \n",
    "#### then the username should be ravirijal.100"
   ]
  },
  {
   "cell_type": "code",
   "execution_count": 2,
   "metadata": {},
   "outputs": [
    {
     "name": "stdout",
     "output_type": "stream",
     "text": [
      "ravirijal.100\n"
     ]
    }
   ],
   "source": [
    "s = input(\"enter the email address\")\n",
    "email = s.index(\"@\")\n",
    "print(s[0:email])\n"
   ]
  },
  {
   "cell_type": "markdown",
   "metadata": {},
   "source": [
    "# Count the frequency of a particular character in a provided string. \n",
    "# Eg 'hello how are you' is the string, the frequency of h in this string is 2."
   ]
  },
  {
   "cell_type": "code",
   "execution_count": 3,
   "metadata": {},
   "outputs": [
    {
     "name": "stdout",
     "output_type": "stream",
     "text": [
      "frequncy 3\n"
     ]
    }
   ],
   "source": [
    "s = input(\"enter the text\")\n",
    "term = input(\"what would you like to search\")\n",
    "counter = 0\n",
    "for i in s:\n",
    "    if i == term:\n",
    "        counter+=1\n",
    "print(\"frequncy\",counter)"
   ]
  },
  {
   "cell_type": "markdown",
   "metadata": {},
   "source": [
    "# Write a program which can remove a particular character from a string."
   ]
  },
  {
   "cell_type": "code",
   "execution_count": 6,
   "metadata": {},
   "outputs": [
    {
     "name": "stdout",
     "output_type": "stream",
     "text": [
      "rvi updhyy\n"
     ]
    }
   ],
   "source": [
    "s = input(\"enter a string\")\n",
    "term = input(\"what would like to remove\")\n",
    "result = ''\n",
    "for i in s:\n",
    "    if i != term:\n",
    "        result = result + i\n",
    "print(result)\n"
   ]
  },
  {
   "cell_type": "markdown",
   "metadata": {},
   "source": [
    "# Write a program that can check whether a given string is palindrome or not.\n",
    "# abba\n",
    "# malayalam"
   ]
  },
  {
   "cell_type": "code",
   "execution_count": 9,
   "metadata": {},
   "outputs": [
    {
     "name": "stdout",
     "output_type": "stream",
     "text": [
      "racecar\n",
      "Palindrome\n"
     ]
    }
   ],
   "source": [
    "s = input('enter the string')\n",
    "print(s)\n",
    "flag = True\n",
    "for i in range(len(s)//2):\n",
    "    if s[i]!=s[len(s)-i-1]:\n",
    "        flag = False\n",
    "        print(\"Not a Palindrome\")\n",
    "        break\n",
    "if flag:\n",
    "    print(\"Palindrome\") "
   ]
  },
  {
   "cell_type": "markdown",
   "metadata": {},
   "source": [
    "# Write a program to count the number of words in a string without split()"
   ]
  },
  {
   "cell_type": "code",
   "execution_count": 10,
   "metadata": {},
   "outputs": [
    {
     "name": "stdout",
     "output_type": "stream",
     "text": [
      "['hello', 'how', 'are', 'you']\n"
     ]
    }
   ],
   "source": [
    "s = input(\"enter the string\")\n",
    "temp = ''\n",
    "L =[]\n",
    "for i in s:\n",
    "    if i != ' ':\n",
    "        temp = temp+i\n",
    "    else:\n",
    "        L.append(temp)\n",
    "        temp =''\n",
    "L.append(temp)\n",
    "print(L)"
   ]
  },
  {
   "cell_type": "markdown",
   "metadata": {},
   "source": [
    "# Write a python program to convert a string to title case without using the title()"
   ]
  },
  {
   "cell_type": "code",
   "execution_count": 7,
   "metadata": {},
   "outputs": [
    {
     "name": "stdout",
     "output_type": "stream",
     "text": [
      "Hi My Name Is Ravi Upadhyay\n"
     ]
    }
   ],
   "source": [
    "s = input(\"enter the string\")\n",
    "L = []\n",
    "for i in s.split(): #Split function change the string into the list\n",
    "    L.append(i[0].upper()+i[1:].lower())\n",
    "print(\" \".join(L)) # Join function join the list into the string"
   ]
  },
  {
   "cell_type": "markdown",
   "metadata": {},
   "source": [
    "# Write a program that can convert an integer to string."
   ]
  },
  {
   "cell_type": "code",
   "execution_count": 8,
   "metadata": {},
   "outputs": [
    {
     "name": "stdout",
     "output_type": "stream",
     "text": [
      "45\n",
      "<class 'str'>\n"
     ]
    }
   ],
   "source": [
    "number = int(input(\"enter the number\"))\n",
    "digits = '0123456789'\n",
    "result = \"\"\n",
    "while number!=0:\n",
    "    result=digits[number%10]+result\n",
    "    number = number//10\n",
    "print(result)\n",
    "print(type(result))"
   ]
  }
 ],
 "metadata": {
  "kernelspec": {
   "display_name": "Python 3",
   "language": "python",
   "name": "python3"
  },
  "language_info": {
   "codemirror_mode": {
    "name": "ipython",
    "version": 3
   },
   "file_extension": ".py",
   "mimetype": "text/x-python",
   "name": "python",
   "nbconvert_exporter": "python",
   "pygments_lexer": "ipython3",
   "version": "3.12.4"
  }
 },
 "nbformat": 4,
 "nbformat_minor": 2
}
