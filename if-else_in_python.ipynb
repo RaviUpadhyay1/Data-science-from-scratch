{
 "cells": [
  {
   "cell_type": "markdown",
   "metadata": {},
   "source": [
    "# If-else statement"
   ]
  },
  {
   "cell_type": "code",
   "execution_count": 2,
   "metadata": {},
   "outputs": [
    {
     "name": "stdout",
     "output_type": "stream",
     "text": [
      "Invalid credentials\n"
     ]
    }
   ],
   "source": [
    "email = input(\"Enter email\")\n",
    "password = input(\"Enter password\")\n",
    "if email == \"admin\" and password == \"password\":\n",
    "    print(\"Login successful\")\n",
    "else:\n",
    "    print(\"Invalid credentials\")"
   ]
  },
  {
   "cell_type": "markdown",
   "metadata": {},
   "source": [
    "# if-elif-else"
   ]
  },
  {
   "cell_type": "code",
   "execution_count": 1,
   "metadata": {},
   "outputs": [
    {
     "name": "stdout",
     "output_type": "stream",
     "text": [
      "Incorrect credentials\n"
     ]
    }
   ],
   "source": [
    "email = input(\"Enter email\")\n",
    "password = input(\"Enter a password\")\n",
    "if email == \"admin\" and password == \"password\":\n",
    "    print(\"Login successful\")\n",
    "elif email == \"admin\" and password != \"password\":\n",
    "    print(\"Incorrect password\")\n",
    "    password = input(\"Enter a correct password\")\n",
    "    if(password == \"password\"):\n",
    "        print(\"Login successful\")\n",
    "    else: \n",
    "        (\"Incorrect password\")\n",
    "else:\n",
    "    print(\"Incorrect credentials\")"
   ]
  },
  {
   "cell_type": "markdown",
   "metadata": {},
   "source": [
    "Practice"
   ]
  },
  {
   "cell_type": "code",
   "execution_count": 3,
   "metadata": {},
   "outputs": [
    {
     "name": "stdout",
     "output_type": "stream",
     "text": [
      "B is greater than A and C\n"
     ]
    }
   ],
   "source": [
    "a = int(input('Enter a first number'))\n",
    "b = int(input(\"Enter a second number\"))\n",
    "c = int(input(\"Enter a third number\"))\n",
    "if a>b>c:\n",
    "    print(\"A is greater than B and C\")\n",
    "elif a<b>c:\n",
    "    print(\"B is greater than A and C\")\n",
    "else:\n",
    "    print(\"C is greater than A and B\")"
   ]
  },
  {
   "cell_type": "code",
   "execution_count": 4,
   "metadata": {},
   "outputs": [
    {
     "name": "stdout",
     "output_type": "stream",
     "text": [
      "c is smallest\n"
     ]
    }
   ],
   "source": [
    "a = int(input('Enter a first number'))\n",
    "b = int(input(\"Enter a second number\"))\n",
    "c = int(input(\"Enter a third number\"))\n",
    "if a<b and a<c:\n",
    "    print(\"a is smallest\")\n",
    "elif b<c and b<a:\n",
    "    print(\"b is smallest\")\n",
    "else:\n",
    "    print(\"c is smallest\")"
   ]
  },
  {
   "cell_type": "markdown",
   "metadata": {},
   "source": [
    "menu driven calculator"
   ]
  },
  {
   "cell_type": "code",
   "execution_count": 9,
   "metadata": {},
   "outputs": [
    {
     "name": "stdout",
     "output_type": "stream",
     "text": [
      "The mul of number  5 and 2 is 10\n"
     ]
    }
   ],
   "source": [
    "a = int(input(\"Enter a first number\"))\n",
    "b = int(input(\"Enter a second number\"))\n",
    "op = input(\"Enter which operation do you want\")\n",
    "if op == '+' :\n",
    "    sum = a + b\n",
    "    print(\"The sum of number\",a,\"and\",b,\"is\", sum)\n",
    "elif op == '-':\n",
    "    sub = a - b\n",
    "    print(\"The sub of number\",a,\"and\",b,\"is\", sub)\n",
    "elif op == '*':\n",
    "    mul = a * b\n",
    "    print(\"The mul of number\",a, \"and\" ,b ,\"is\", mul)\n",
    "elif op == '/':\n",
    "    div = a/b\n",
    "    print(\"The division of number\",a ,\"and\",b,\"is\", div)\n",
    "else:\n",
    "    print(\"provide the correct operation\")\n"
   ]
  },
  {
   "cell_type": "code",
   "execution_count": 10,
   "metadata": {},
   "outputs": [
    {
     "name": "stdout",
     "output_type": "stream",
     "text": [
      "pin change\n"
     ]
    }
   ],
   "source": [
    "menu = input(\"\"\"\n",
    "Hi! How can I help you?\n",
    "1. Enter 1 for Pin Change\n",
    "2. Enter 2 for Balance Check\n",
    "3. Enter 3 for withdrawal\n",
    "4. Enter 4 for exit\n",
    "\"\"\")\n",
    "if menu == '1':\n",
    "    print('pin change')\n",
    "elif menu == '2':\n",
    "    print('balance check')\n",
    "elif menu == '3':\n",
    "    print('withdrawal')\n",
    "elif menu == '4':\n",
    "    print(\"exit\")\n",
    "else:\n",
    "    print(\"Incorrect\")\n"
   ]
  }
 ],
 "metadata": {
  "kernelspec": {
   "display_name": ".venv",
   "language": "python",
   "name": "python3"
  },
  "language_info": {
   "codemirror_mode": {
    "name": "ipython",
    "version": 3
   },
   "file_extension": ".py",
   "mimetype": "text/x-python",
   "name": "python",
   "nbconvert_exporter": "python",
   "pygments_lexer": "ipython3",
   "version": "3.12.3"
  }
 },
 "nbformat": 4,
 "nbformat_minor": 2
}
