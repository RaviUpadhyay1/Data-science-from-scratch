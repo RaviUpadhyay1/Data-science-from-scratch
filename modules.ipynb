{
 "cells": [
  {
   "cell_type": "markdown",
   "metadata": {},
   "source": [
    "# math module"
   ]
  },
  {
   "cell_type": "code",
   "execution_count": 1,
   "metadata": {},
   "outputs": [
    {
     "data": {
      "text/plain": [
       "120"
      ]
     },
     "execution_count": 1,
     "metadata": {},
     "output_type": "execute_result"
    }
   ],
   "source": [
    "import math\n",
    "math.factorial(5)"
   ]
  },
  {
   "cell_type": "code",
   "execution_count": 2,
   "metadata": {},
   "outputs": [
    {
     "data": {
      "text/plain": [
       "6"
      ]
     },
     "execution_count": 2,
     "metadata": {},
     "output_type": "execute_result"
    }
   ],
   "source": [
    "import math\n",
    "math.floor(6.9)"
   ]
  },
  {
   "cell_type": "code",
   "execution_count": 3,
   "metadata": {},
   "outputs": [
    {
     "data": {
      "text/plain": [
       "14.0"
      ]
     },
     "execution_count": 3,
     "metadata": {},
     "output_type": "execute_result"
    }
   ],
   "source": [
    "import math \n",
    "math.sqrt(196)"
   ]
  },
  {
   "cell_type": "markdown",
   "metadata": {},
   "source": [
    "# keyword"
   ]
  },
  {
   "cell_type": "code",
   "execution_count": 4,
   "metadata": {},
   "outputs": [
    {
     "name": "stdout",
     "output_type": "stream",
     "text": [
      "['False', 'None', 'True', 'and', 'as', 'assert', 'async', 'await', 'break', 'class', 'continue', 'def', 'del', 'elif', 'else', 'except', 'finally', 'for', 'from', 'global', 'if', 'import', 'in', 'is', 'lambda', 'nonlocal', 'not', 'or', 'pass', 'raise', 'return', 'try', 'while', 'with', 'yield']\n"
     ]
    }
   ],
   "source": [
    "import keyword\n",
    "print(keyword.kwlist)"
   ]
  },
  {
   "cell_type": "markdown",
   "metadata": {},
   "source": [
    "# Ramdom module"
   ]
  },
  {
   "cell_type": "code",
   "execution_count": null,
   "metadata": {},
   "outputs": [],
   "source": [
    "import random\n",
    "print(random.randint(1,100))"
   ]
  },
  {
   "cell_type": "markdown",
   "metadata": {},
   "source": [
    "# Date and Time Module"
   ]
  },
  {
   "cell_type": "code",
   "execution_count": 5,
   "metadata": {},
   "outputs": [
    {
     "name": "stdout",
     "output_type": "stream",
     "text": [
      "2024-06-02 19:24:52.621677\n"
     ]
    }
   ],
   "source": [
    "import datetime\n",
    "print(datetime.datetime.now())"
   ]
  },
  {
   "cell_type": "code",
   "execution_count": 18,
   "metadata": {},
   "outputs": [
    {
     "name": "stdout",
     "output_type": "stream",
     "text": [
      "Current date and time: 2024-06-02 19:42:24.090963\n",
      "Formatted date and time: 02/06/2024, 19:42:24\n"
     ]
    }
   ],
   "source": [
    "import datetime\n",
    "\n",
    "# Get the current date and time\n",
    "now = datetime.datetime.now()\n",
    "\n",
    "# Print the current date and time\n",
    "print(\"Current date and time:\", now)\n",
    "\n",
    "# Format the date and time as a string\n",
    "D1 = now.strftime(\"%d/%m/%Y, %H:%M:%S\")\n",
    "\n",
    "# Print the formatted date and time\n",
    "print(\"Formatted date and time:\", D1)\n"
   ]
  },
  {
   "cell_type": "code",
   "execution_count": 12,
   "metadata": {},
   "outputs": [
    {
     "name": "stdout",
     "output_type": "stream",
     "text": [
      "Time: 19:31:03\n",
      "s1: 06/02/2024, 19:31:03\n",
      "s2: 02/06/2024, 19:31:03\n"
     ]
    }
   ],
   "source": [
    "from datetime import datetime\n",
    "\n",
    "# current date and time\n",
    "now = datetime.now()\n",
    "\n",
    "t = now.strftime(\"%H:%M:%S\")\n",
    "print(\"Time:\", t)\n",
    "\n",
    "s1 = now.strftime(\"%m/%d/%Y, %H:%M:%S\")\n",
    "# mm/dd/YY H:M:S format\n",
    "print(\"s1:\", s1)\n",
    "\n",
    "s2 = now.strftime(\"%d/%m/%Y, %H:%M:%S\")\n",
    "# dd/mm/YY H:M:S format\n",
    "print(\"s2:\", s2)"
   ]
  },
  {
   "cell_type": "code",
   "execution_count": 14,
   "metadata": {},
   "outputs": [
    {
     "name": "stdout",
     "output_type": "stream",
     "text": [
      "\n",
      "Please wait a moment while I gather a list of all available modules...\n",
      "\n",
      "IPython             _testsinglephase    gzip                rlcompleter\n",
      "__future__          _thread             hashlib             runpy\n",
      "__hello__           _threading_local    heapq               sched\n",
      "__phello__          _tokenize           hmac                secrets\n",
      "_abc                _tracemalloc        html                select\n",
      "_aix_support        _typing             http                selectors\n",
      "_ast                _warnings           imaplib             shelve\n",
      "_asyncio            _weakref            imghdr              shlex\n",
      "_bisect             _weakrefset         importlib           shutil\n",
      "_blake2             _xxinterpchannels   inspect             signal\n",
      "_bz2                _xxsubinterpreters  io                  site\n",
      "_codecs             _xxtestfuzz         ipaddress           sitecustomize\n",
      "_codecs_cn          _zoneinfo           ipykernel           six\n",
      "_codecs_hk          abc                 ipykernel_launcher  smtplib\n",
      "_codecs_iso2022     aifc                itertools           sndhdr\n",
      "_codecs_jp          antigravity         jedi                socket\n",
      "_codecs_kr          argparse            json                socketserver\n",
      "_codecs_tw          array               jupyter             spwd\n",
      "_collections        ast                 jupyter_client      sqlite3\n",
      "_collections_abc    asttokens           jupyter_core        sre_compile\n",
      "_compat_pickle      asyncio             keyword             sre_constants\n",
      "_compression        atexit              linecache           sre_parse\n",
      "_contextvars        audioop             locale              ssl\n",
      "_crypt              base64              logging             stack_data\n",
      "_csv                bdb                 lzma                stat\n",
      "_ctypes             binascii            mailbox             statistics\n",
      "_ctypes_test        bisect              mailcap             string\n",
      "_curses             builtins            marshal             stringprep\n",
      "_curses_panel       bz2                 math                struct\n",
      "_datetime           cProfile            matplotlib_inline   subprocess\n",
      "_dbm                calendar            mimetypes           sunau\n",
      "_decimal            cgi                 mmap                symtable\n",
      "_distutils_system_mod cgitb               modulefinder        sys\n",
      "_elementtree        chunk               multiprocessing     sysconfig\n",
      "_functools          cmath               nest_asyncio        syslog\n",
      "_gdbm               cmd                 netrc               tabnanny\n",
      "_hashlib            code                nntplib             tarfile\n",
      "_heapq              codecs              ntpath              telnetlib\n",
      "_imp                codeop              nturl2path          tempfile\n",
      "_io                 collections         numbers             termios\n",
      "_json               colorsys            opcode              test\n",
      "_locale             comm                operator            textwrap\n",
      "_lsprof             compileall          optparse            this\n",
      "_lzma               concurrent          os                  threading\n",
      "_markupbase         configparser        ossaudiodev         time\n",
      "_md5                contextlib          packaging           timeit\n",
      "_multibytecodec     contextvars         parso               token\n",
      "_multiprocessing    copy                pathlib             tokenize\n",
      "_opcode             copyreg             pdb                 tomllib\n",
      "_operator           crypt               pexpect             tornado\n",
      "_osx_support        csv                 pickle              trace\n",
      "_pickle             ctypes              pickletools         traceback\n",
      "_posixshmem         curses              pip                 tracemalloc\n",
      "_posixsubprocess    dataclasses         pipes               traitlets\n",
      "_py_abc             datetime            pkgutil             tty\n",
      "_pydatetime         dateutil            platform            turtle\n",
      "_pydecimal          dbm                 platformdirs        types\n",
      "_pyio               debugpy             plistlib            typing\n",
      "_pylong             decimal             poplib              unicodedata\n",
      "_queue              decorator           posix               unittest\n",
      "_random             difflib             posixpath           urllib\n",
      "_sha1               dis                 pprint              uu\n",
      "_sha2               doctest             profile             uuid\n",
      "_sha3               email               prompt_toolkit      venv\n",
      "_signal             encodings           pstats              warnings\n",
      "_sitebuiltins       enum                psutil              wave\n",
      "_socket             errno               pty                 wcwidth\n",
      "_sqlite3            executing           ptyprocess          weakref\n",
      "_sre                faulthandler        pure_eval           webbrowser\n",
      "_ssl                fcntl               pwd                 wsgiref\n",
      "_stat               filecmp             py_compile          xdrlib\n",
      "_statistics         fileinput           pyclbr              xml\n",
      "_string             fnmatch             pydoc               xmlrpc\n",
      "_strptime           fractions           pydoc_data          xxlimited\n",
      "_struct             ftplib              pyexpat             xxlimited_35\n",
      "_symtable           functools           pygments            xxsubtype\n",
      "_sysconfigdata__linux_x86_64-linux-gnu gc                  queue               zipapp\n",
      "_sysconfigdata__x86_64-linux-gnu genericpath         quopri              zipfile\n",
      "_testbuffer         getopt              random              zipimport\n",
      "_testcapi           getpass             ravi                zlib\n",
      "_testclinic         gettext             re                  zmq\n",
      "_testimportmultiple glob                readline            zoneinfo\n",
      "_testinternalcapi   graphlib            reprlib             \n",
      "_testmultiphase     grp                 resource            \n",
      "\n",
      "Enter any module name to get more help.  Or, type \"modules spam\" to search\n",
      "for modules whose name or summary contain the string \"spam\".\n",
      "\n"
     ]
    }
   ],
   "source": [
    "help('modules')"
   ]
  }
 ],
 "metadata": {
  "kernelspec": {
   "display_name": ".venv",
   "language": "python",
   "name": "python3"
  },
  "language_info": {
   "codemirror_mode": {
    "name": "ipython",
    "version": 3
   },
   "file_extension": ".py",
   "mimetype": "text/x-python",
   "name": "python",
   "nbconvert_exporter": "python",
   "pygments_lexer": "ipython3",
   "version": "3.12.3"
  }
 },
 "nbformat": 4,
 "nbformat_minor": 2
}
