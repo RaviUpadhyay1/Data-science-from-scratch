{
 "cells": [
  {
   "cell_type": "code",
   "execution_count": null,
   "metadata": {},
   "outputs": [],
   "source": [
    "from pydub import AudioSegment\n",
    "import speech_recognition as sr\n",
    "\n",
    "# Load the audio file\n",
    "audio_path = '/mnt/data/Video 3 voice.mp3'\n",
    "audio = AudioSegment.from_mp3(audio_path)\n",
    "\n",
    "# Save as WAV for compatibility with speech recognition\n",
    "wav_path = '/mnt/data/Video_3_voice.wav'\n",
    "audio.export(wav_path, format=\"wav\")\n",
    "\n",
    "# Transcribe the audio using SpeechRecognition\n",
    "recognizer = sr.Recognizer()\n",
    "with sr.AudioFile(wav_path) as source:\n",
    "    audio_data = recognizer.record(source)\n",
    "    try:\n",
    "        transcription = recognizer.recognize_google(audio_data)\n",
    "    except sr.UnknownValueError:\n",
    "        transcription = \"Audio not clear enough for transcription.\"\n",
    "    except sr.RequestError:\n",
    "        transcription = \"Error occurred while processing the audio.\"\n",
    "\n",
    "transcription\n"
   ]
  },
  {
   "cell_type": "code",
   "execution_count": null,
   "metadata": {},
   "outputs": [],
   "source": []
  }
 ],
 "metadata": {
  "kernelspec": {
   "display_name": "Python 3",
   "language": "python",
   "name": "python3"
  },
  "language_info": {
   "name": "python",
   "version": "3.12.4"
  }
 },
 "nbformat": 4,
 "nbformat_minor": 2
}
