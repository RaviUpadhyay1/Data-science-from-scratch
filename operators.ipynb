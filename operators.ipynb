{
 "cells": [
  {
   "cell_type": "markdown",
   "metadata": {},
   "source": [
    "# Arithmetic Operator"
   ]
  },
  {
   "cell_type": "code",
   "execution_count": 2,
   "metadata": {},
   "outputs": [
    {
     "name": "stdout",
     "output_type": "stream",
     "text": [
      "3\n",
      "7\n",
      "10\n",
      "2.5\n",
      "25\n",
      "1\n",
      "2\n"
     ]
    }
   ],
   "source": [
    "print(5-2) # Subtraction\n",
    "print(5+2) # Addition\n",
    "print(5*2) # Multiplication\n",
    "print(5/2) # Division\n",
    "print(5**2) # Exponentiation\n",
    "print(5%2) # Modulus\n",
    "print(5//2) # Floor Division It gives devision in integer"
   ]
  },
  {
   "cell_type": "markdown",
   "metadata": {},
   "source": [
    "# Relation Operator"
   ]
  },
  {
   "cell_type": "code",
   "execution_count": 4,
   "metadata": {},
   "outputs": [
    {
     "name": "stdout",
     "output_type": "stream",
     "text": [
      "False\n",
      "True\n",
      "False\n",
      "True\n",
      "False\n",
      "True\n"
     ]
    }
   ],
   "source": [
    "print(4>5) #Greater than\n",
    "print(4<5) #Less than\n",
    "print(4>=5) #Greater than or equal to\n",
    "print(4<=5) #Less than or equal to \n",
    "print(4==5) #Equal to\n",
    "print(4!=5) #Not equal to\n",
    "# print(4<>5) #Not equal to (alternative)\n",
    "# print(4===5) #Not a valid operator in Python"
   ]
  },
  {
   "cell_type": "markdown",
   "metadata": {},
   "source": [
    "# Logical Operator"
   ]
  },
  {
   "cell_type": "code",
   "execution_count": 5,
   "metadata": {},
   "outputs": [
    {
     "name": "stdout",
     "output_type": "stream",
     "text": [
      "0\n",
      "1\n",
      "0\n",
      "0\n",
      "1\n",
      "1\n",
      "1\n",
      "0\n",
      "False\n",
      "True\n",
      "False\n",
      "True\n"
     ]
    }
   ],
   "source": [
    "print(1 and 0) #and gives 0 if there is one true and one false value\n",
    "print(1 and 1) #and gives 1 if both values are true\n",
    "print(0 and 1) #and gives 0 if there is one true and one false\n",
    "print(0 and 0) #and gives 0 if both values are false\n",
    "print(1 or 0) # or gives 1 if there is one true value\n",
    "print(1 or 1) # or gives 1 if both values are true\n",
    "print(0 or 1) # or gives 1 if there is one true value   \n",
    "print(0 or 0) # or gives 0 if both values are false\n",
    "print(not 1) #not gives 0 if the value is true\n",
    "print(not 0) #not gives 1 if the value is false\n",
    "print(not True) #not gives False if the value is true\n",
    "print(not False) #not gives True if the value is false\n"
   ]
  },
  {
   "cell_type": "markdown",
   "metadata": {},
   "source": [
    "# Bitwise Operator"
   ]
  },
  {
   "cell_type": "code",
   "execution_count": 10,
   "metadata": {},
   "outputs": [
    {
     "name": "stdout",
     "output_type": "stream",
     "text": [
      "2\n",
      "3\n",
      "1\n",
      "-4\n",
      "8\n",
      "0\n"
     ]
    }
   ],
   "source": [
    "print(2 & 3) # bitwise and it gives 1 if both the value is 1 otherwise it gives 0\n",
    "print(2 | 3) # bitwise or it gives 1 if any of the value is 1 \n",
    "print(2 ^ 3) # bitwise xor it gives 1 if both the value is different\n",
    "print(~3) # bitwise not it gives 1's complement of the number    where 3 is 11 and while complementing it becomes 101 and now we perform \n",
    "print(2 << 2) # left shift it shifts the bits to the left and fills\n",
    "print(2 >> 2) # right shift it shifts the bits to the right and fills"
   ]
  },
  {
   "cell_type": "markdown",
   "metadata": {},
   "source": [
    "# Assignment Operators"
   ]
  },
  {
   "cell_type": "code",
   "execution_count": 2,
   "metadata": {},
   "outputs": [
    {
     "name": "stdout",
     "output_type": "stream",
     "text": [
      "4\n",
      "0\n",
      "4\n",
      "1.0\n",
      "1\n"
     ]
    }
   ],
   "source": [
    "a = 2\n",
    "a += 2 #This means a = a+2\n",
    "print(a)\n",
    "b = 2\n",
    "b -= 2 #This means b = b-2\n",
    "print(b)\n",
    "c = 2\n",
    "c *= 2 #This means c = c*2\n",
    "print(c)\n",
    "d = 2\n",
    "d /= 2 #This means d = d/2\n",
    "print(d)\n",
    "e = 3\n",
    "e %= 2 #This means e = e%2\n",
    "print(e)"
   ]
  },
  {
   "cell_type": "markdown",
   "metadata": {},
   "source": [
    "# Membership Operators"
   ]
  },
  {
   "cell_type": "code",
   "execution_count": 17,
   "metadata": {},
   "outputs": [
    {
     "name": "stdout",
     "output_type": "stream",
     "text": [
      "True\n",
      "False\n",
      "False\n",
      "False\n"
     ]
    }
   ],
   "source": [
    "print('D' in 'Delhi') # D is present in Delhi\n",
    "print('D' in 'Delhi'.lower()) # D is present in Delhi (case insensitive\n",
    "print('D' not in 'Delhi') # D is not absent in Delhi\n",
    "print(1 in [2,3,4,5,6])"
   ]
  },
  {
   "cell_type": "markdown",
   "metadata": {},
   "source": [
    "# Practice"
   ]
  },
  {
   "cell_type": "code",
   "execution_count": 3,
   "metadata": {},
   "outputs": [
    {
     "name": "stdout",
     "output_type": "stream",
     "text": [
      "The sum of the numbers is 13\n",
      "The average of the numbers is 4.333333333333333\n"
     ]
    }
   ],
   "source": [
    "a = int(input(\"Enter a number 1\"))\n",
    "b = int(input(\"Enter a number 2\"))\n",
    "c = int(input(\"Enter a number 3\"))\n",
    "sum = a + b + c\n",
    "avg = sum / 3\n",
    "print(\"The sum of the numbers is\", sum)\n",
    "print(\"The average of the numbers is\", avg)\n"
   ]
  },
  {
   "cell_type": "markdown",
   "metadata": {},
   "source": [
    "Program -Find the sum of a 3 digit number entered by the user"
   ]
  },
  {
   "cell_type": "code",
   "execution_count": 24,
   "metadata": {},
   "outputs": [
    {
     "name": "stdout",
     "output_type": "stream",
     "text": [
      "345\n",
      "5\n",
      "34\n",
      "4\n",
      "3\n",
      "3\n",
      "12\n"
     ]
    }
   ],
   "source": [
    "numbers = int(input(\"Enter a 3 digit number\"))\n",
    "print(numbers)\n",
    "a = numbers%10\n",
    "numbers = (numbers//10)\n",
    "print(a)\n",
    "print(numbers)\n",
    "b = numbers%10\n",
    "numbers = (numbers//10)\n",
    "print(b)\n",
    "print(numbers)\n",
    "c = numbers\n",
    "print(c)\n",
    "print(a+b+c)"
   ]
  },
  {
   "cell_type": "code",
   "execution_count": null,
   "metadata": {},
   "outputs": [],
   "source": [
    "numbers = int(input(\"Enter a 3 digit number\"))\n",
    "print(numbers)\n",
    "a = numbers%10\n",
    "b = (numbers//10)%10\n",
    "c = numbers//100\n"
   ]
  }
 ],
 "metadata": {
  "kernelspec": {
   "display_name": "Python 3",
   "language": "python",
   "name": "python3"
  },
  "language_info": {
   "codemirror_mode": {
    "name": "ipython",
    "version": 3
   },
   "file_extension": ".py",
   "mimetype": "text/x-python",
   "name": "python",
   "nbconvert_exporter": "python",
   "pygments_lexer": "ipython3",
   "version": "3.12.4"
  }
 },
 "nbformat": 4,
 "nbformat_minor": 2
}
